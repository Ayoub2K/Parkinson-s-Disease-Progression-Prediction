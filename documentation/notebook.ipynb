{
 "cells": [
  {
   "cell_type": "markdown",
   "metadata": {},
   "source": [
    "# Parkinson's disease progression notebook\n",
    "\n",
    "### Motivatie en originaliteit van de gebruikte methoden\n"
   ]
  },
  {
   "cell_type": "markdown",
   "metadata": {},
   "source": [
    "Het voorspellen van het verloop van de ziekte van Parkinson (PD) op basis van eiwitten uit onze gegeven is een complexe taak die een doordachte aanpak vereist. Hier zijn de stappen en overwegingen die wij hebben doorlopen voor het kiezen van het juiste model.\n",
    "\n",
    "* Data Preprocessing:\n",
    "    -   Wij zijn begonnen met het opgschonenen en voorbereiden van onze data, Hierbij hebben wij processen gebruikte als groeperen, piviton en mergen.\n"
   ]
  },
  {
   "cell_type": "code",
   "execution_count": null,
   "metadata": {
    "vscode": {
     "languageId": "plaintext"
    }
   },
   "outputs": [],
   "source": [
    "def prepare_dataset(train_proteins: pd.DataFrame, train_peptides: pd.DataFrame):\n",
    "\n",
    "    # Grouping \n",
    "    df_protein_grouped = train_proteins.groupby([\"visit_id\",\"UniProt\"])[\"NPX\"].mean().reset_index()\n",
    "    df_peptide_grouped = train_peptides.groupby([\"visit_id\",\"Peptide\"])[\"PeptideAbundance\"].mean().reset_index()\n",
    "\n",
    "    # Pivoting\n",
    "    df_protein = df_protein_grouped.pivot(index=\"visit_id\", columns=\"UniProt\", values=\"NPX\").rename_axis(columns=None).reset_index()\n",
    "    df_peptide = df_peptide_grouped.pivot(index=\"visit_id\", columns=\"Peptide\", values=\"PeptideAbundance\").rename_axis(columns=None).reset_index()\n",
    "    \n",
    "    # Merging\n",
    "    pro_pep_df = df_protein.merge(df_peptide, on=[\"visit_id\"], how=\"left\")\n",
    "    \n",
    "    return pro_pep_df"
   ]
  },
  {
   "cell_type": "markdown",
   "metadata": {},
   "source": [
    "* Feature Selection:\n",
    "    -   Wij hebben ervoor gekozen om alle features te gebruiken die mogelijk zijn, dit omdat wij niet veel verschil konden vinden tussen features, dus het weghouden van bepaalde features zou in dat geval ononderbouwd zijn."
   ]
  },
  {
   "cell_type": "markdown",
   "metadata": {},
   "source": [
    "* Model Selection:\n",
    "    - Wij hebben ervoor gekozen om zowel met een Random Forest als Neural Network onze target te predicten, hieronder onze argumentatie waarom deze modellen goed bij onze doel past.\n",
    "\n",
    "#### Random Forests:\n",
    "\n",
    "- Random Forests is een leermethode die meerdere beslissingsbomen combineert om voorspellende nauwkeurigheid te verbeteren en overfitting te beheersen. het kan goed omgaan met data met veel dimensies, waardoor het geschikt is voor datasets met een groot aantal kenmerken van in dit geval eiwitten en petide waardes.\n",
    "- Robust tegen overfitting, outliers, noise,  and missende waardes.\n",
    "- kan niet-lineaire relaties in de gegevens vastleggen, waardoor het geschikt is in scenario's waarin de relatie tussen de waarden van de eiwiten en de ziekteprogressie non linear is.\n",
    "\n",
    "#### Neural Network:\n",
    "\n",
    "- Goed voor het vastleggen van complexe patronen, vooral in grote datasets.\n",
    "- Neurale netwerken kunnen automatisch relevante kenmerken uit de data halen, die wij met onze huidige domein kennis niet zouden herkennen.\n",
    "- Ze zijn flexibel en kunnen worden aangepast aan verschillende soorten gegevens en probleemscenario's. dit zal ons voornamelijk helpen omdat wij met dit probleem meerdere targets hebben.\n",
    "\n",
    "\n",
    "* Training models:\n",
    "\n"
   ]
  },
  {
   "cell_type": "markdown",
   "metadata": {},
   "source": []
  }
 ],
 "metadata": {
  "language_info": {
   "name": "python"
  }
 },
 "nbformat": 4,
 "nbformat_minor": 2
}
