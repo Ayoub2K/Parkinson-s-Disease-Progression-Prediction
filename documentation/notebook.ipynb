{
 "cells": [
  {
   "cell_type": "markdown",
   "metadata": {},
   "source": [
    "# Parkinson's disease progression notebook\n",
    "\n",
    "### Motivatie en originaliteit van de gebruikte methoden\n"
   ]
  },
  {
   "cell_type": "markdown",
   "metadata": {},
   "source": [
    "Het voorspellen van het verloop van de ziekte van Parkinson (PD) op basis van eiwitten uit onze gegeven is een complexe taak die een doordachte aanpak vereist. Hier zijn de stappen en overwegingen die wij hebben doorlopen voor het kiezen van het juiste model.\n",
    "\n",
    "* Data Preprocessing:\n",
    "    -   Wij zijn begonnen met het opgschonenen en voorbereiden van onze data, Hierbij hebben wij processen gebruikte als groeperen, piviton en mergen.\n"
   ]
  },
  {
   "cell_type": "code",
   "execution_count": null,
   "metadata": {
    "vscode": {
     "languageId": "plaintext"
    }
   },
   "outputs": [],
   "source": [
    "def prepare_dataset(train_proteins: pd.DataFrame, train_peptides: pd.DataFrame):\n",
    "\n",
    "    # Grouping \n",
    "    df_protein_grouped = train_proteins.groupby([\"visit_id\",\"UniProt\"])[\"NPX\"].mean().reset_index()\n",
    "    df_peptide_grouped = train_peptides.groupby([\"visit_id\",\"Peptide\"])[\"PeptideAbundance\"].mean().reset_index()\n",
    "\n",
    "    # Pivoting\n",
    "    df_protein = df_protein_grouped.pivot(index=\"visit_id\", columns=\"UniProt\", values=\"NPX\").rename_axis(columns=None).reset_index()\n",
    "    df_peptide = df_peptide_grouped.pivot(index=\"visit_id\", columns=\"Peptide\", values=\"PeptideAbundance\").rename_axis(columns=None).reset_index()\n",
    "    \n",
    "    # Merging\n",
    "    pro_pep_df = df_protein.merge(df_peptide, on=[\"visit_id\"], how=\"left\")\n",
    "    \n",
    "    return pro_pep_df"
   ]
  },
  {
   "cell_type": "markdown",
   "metadata": {},
   "source": [
    "### Documentation"
   ]
  },
  {
   "cell_type": "code",
   "execution_count": null,
   "metadata": {
    "vscode": {
     "languageId": "plaintext"
    }
   },
   "outputs": [],
   "source": []
  },
  {
   "cell_type": "markdown",
   "metadata": {},
   "source": [
    "### Kaggle score"
   ]
  },
  {
   "cell_type": "markdown",
   "metadata": {},
   "source": []
  }
 ],
 "metadata": {
  "language_info": {
   "name": "python"
  }
 },
 "nbformat": 4,
 "nbformat_minor": 2
}
